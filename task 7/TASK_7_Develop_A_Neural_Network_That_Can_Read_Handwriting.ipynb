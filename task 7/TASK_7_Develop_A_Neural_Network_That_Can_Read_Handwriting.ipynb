{
  "cells": [
    {
      "cell_type": "code",
      "execution_count": 1,
      "metadata": {
        "id": "V4K6WIs55qb9"
      },
      "outputs": [],
      "source": [
        "#Importing packages\n",
        "import tensorflow as tf\n",
        "import numpy as np\n",
        "from matplotlib import pyplot as plt\n",
        "import seaborn as sns"
      ]
    },
    {
      "cell_type": "code",
      "execution_count": 2,
      "metadata": {
        "colab": {
          "base_uri": "https://localhost:8080/"
        },
        "id": "nciobcOI6xsy",
        "outputId": "8d91c11c-100d-4dfd-f259-7f9f334203ca"
      },
      "outputs": [
        {
          "output_type": "stream",
          "name": "stdout",
          "text": [
            "Downloading data from https://storage.googleapis.com/tensorflow/tf-keras-datasets/mnist.npz\n",
            "11490434/11490434 [==============================] - 0s 0us/step\n"
          ]
        }
      ],
      "source": [
        "#loading dataset\n",
        "(x_train,y_train),(x_test,y_test)=tf.keras.datasets.mnist.load_data()"
      ]
    },
    {
      "cell_type": "code",
      "execution_count": 3,
      "metadata": {
        "colab": {
          "base_uri": "https://localhost:8080/",
          "height": 693
        },
        "id": "nh6dAC2161Te",
        "outputId": "24bbbe68-ebcb-44b5-feff-dc1c5d9798fb"
      },
      "outputs": [
        {
          "output_type": "execute_result",
          "data": {
            "text/plain": [
              "<Axes: ylabel='count'>"
            ]
          },
          "metadata": {},
          "execution_count": 3
        },
        {
          "output_type": "display_data",
          "data": {
            "text/plain": [
              "<Figure size 1000x800 with 1 Axes>"
            ],
            "image/png": "[encoded data removed]"
          },
          "metadata": {}
        }
      ],
      "source": [
        "plt.figure(figsize = (10,8))\n",
        "sns.countplot(y_train)"
      ]
    },
    {
      "cell_type": "code",
      "execution_count": 19,
      "metadata": {
        "colab": {
          "base_uri": "https://localhost:8080/",
          "height": 192
        },
        "id": "F6mXtgqF64bo",
        "outputId": "152b32f0-182d-48d4-b352-240feea0b09c"
      },
      "outputs": [
        {
          "output_type": "display_data",
          "data": {
            "text/plain": [
              "<Figure size 1000x400 with 5 Axes>"
            ],
            "image/png": "[encoded data removed]"
          },
          "metadata": {}
        }
      ],
      "source": [
        "#Dataset properties\n",
        "# Display some images\n",
        "fig, axes = plt.subplots(ncols=5, sharex=False, \n",
        "    sharey=True, figsize=(10, 4))\n",
        "for i in range(5):\n",
        "    axes[i].set_title(y_train[i])\n",
        "    axes[i].imshow(x_train[i], cmap='gray_r')\n",
        "    axes[i].get_xaxis().set_visible(False)\n",
        "    axes[i].get_yaxis().set_visible(False)\n",
        "plt.show()"
      ]
    },
    {
      "cell_type": "code",
      "execution_count": 5,
      "metadata": {
        "colab": {
          "base_uri": "https://localhost:8080/"
        },
        "id": "HHnFyeNO68mY",
        "outputId": "161a1154-3343-4cfd-efb3-8c33919bf617"
      },
      "outputs": [
        {
          "output_type": "stream",
          "name": "stdout",
          "text": [
            "Training images shape :  (60000, 28, 28)\n",
            "Testing images shape :  (10000, 28, 28)\n"
          ]
        }
      ],
      "source": [
        "# Pre-processing the data\n",
        "print('Training images shape : ',x_train.shape)\n",
        "print('Testing images shape : ',x_test.shape)"
      ]
    },
    {
      "cell_type": "code",
      "execution_count": 6,
      "metadata": {
        "id": "tnlVvq-m6_RM"
      },
      "outputs": [],
      "source": [
        "x_train = x_train.reshape(x_train.shape[0], 28, 28, 1)\n",
        "x_test = x_test.reshape(x_test.shape[0], 28, 28, 1)\n",
        "input_shape = (28, 28, 1)\n",
        "#applying normalization\n",
        "x_train=x_train/255.0\n",
        "x_testg=x_test/255.0\n",
        "num_classes = 10"
      ]
    },
    {
      "cell_type": "code",
      "execution_count": 7,
      "metadata": {
        "id": "hW05Xcpm7V8d"
      },
      "outputs": [],
      "source": [
        "from tensorflow import keras\n",
        "from keras.layers import Dense\n",
        "from keras.models import Sequential, load_model"
      ]
    },
    {
      "cell_type": "code",
      "execution_count": 8,
      "metadata": {
        "id": "hqnhEGfw8nE3"
      },
      "outputs": [],
      "source": [
        "from tensorflow.keras.models import Sequential\n",
        "from tensorflow.keras.layers import Dense, Dropout, Flatten,Activation\n",
        "from tensorflow.keras.layers import Conv2D,MaxPooling2D\n",
        "from tensorflow.keras.layers import BatchNormalization"
      ]
    },
    {
      "cell_type": "code",
      "execution_count": 9,
      "metadata": {
        "colab": {
          "base_uri": "https://localhost:8080/"
        },
        "id": "-gCQ--1yYbPD",
        "outputId": "ccfff2bf-48d2-439b-fc78-4f326f071b1e"
      },
      "outputs": [
        {
          "output_type": "stream",
          "name": "stdout",
          "text": [
            "Model: \"sequential\"\n",
            "_________________________________________________________________\n",
            " Layer (type)                Output Shape              Param #   \n",
            "=================================================================\n",
            " conv2d (Conv2D)             (None, 26, 26, 128)       1280      \n",
            "                                                                 \n",
            " batch_normalization (BatchN  (None, 26, 26, 128)      512       \n",
            " ormalization)                                                   \n",
            "                                                                 \n",
            " dropout (Dropout)           (None, 26, 26, 128)       0         \n",
            "                                                                 \n",
            " conv2d_1 (Conv2D)           (None, 24, 24, 64)        73792     \n",
            "                                                                 \n",
            " batch_normalization_1 (Batc  (None, 24, 24, 64)       256       \n",
            " hNormalization)                                                 \n",
            "                                                                 \n",
            " dropout_1 (Dropout)         (None, 24, 24, 64)        0         \n",
            "                                                                 \n",
            " conv2d_2 (Conv2D)           (None, 22, 22, 32)        18464     \n",
            "                                                                 \n",
            " batch_normalization_2 (Batc  (None, 22, 22, 32)       128       \n",
            " hNormalization)                                                 \n",
            "                                                                 \n",
            " dropout_2 (Dropout)         (None, 22, 22, 32)        0         \n",
            "                                                                 \n",
            " max_pooling2d (MaxPooling2D  (None, 11, 11, 32)       0         \n",
            " )                                                               \n",
            "                                                                 \n",
            " dropout_3 (Dropout)         (None, 11, 11, 32)        0         \n",
            "                                                                 \n",
            " flatten (Flatten)           (None, 3872)              0         \n",
            "                                                                 \n",
            " dense (Dense)               (None, 128)               495744    \n",
            "                                                                 \n",
            " dropout_4 (Dropout)         (None, 128)               0         \n",
            "                                                                 \n",
            " dense_1 (Dense)             (None, 10)                1290      \n",
            "                                                                 \n",
            "=================================================================\n",
            "Total params: 591,466\n",
            "Trainable params: 591,018\n",
            "Non-trainable params: 448\n",
            "_________________________________________________________________\n"
          ]
        }
      ],
      "source": [
        "model = Sequential()\n",
        "\n",
        "model.add(Conv2D(128, kernel_size=(3, 3),\n",
        "                 activation=tf.nn.relu,\n",
        "                 input_shape=input_shape))\n",
        "model.add(BatchNormalization())\n",
        "model.add(Dropout(0.3))\n",
        "\n",
        "model.add(Conv2D(64, (3, 3), activation=tf.nn.relu))\n",
        "model.add(BatchNormalization())\n",
        "model.add(Dropout(0.3))\n",
        "\n",
        "model.add(Conv2D(32, (3, 3), activation=tf.nn.relu))\n",
        "model.add(BatchNormalization())\n",
        "model.add(Dropout(0.3))\n",
        "\n",
        "\n",
        "model.add(MaxPooling2D(pool_size=(2, 2)))\n",
        "model.add(Dropout(0.3))\n",
        "model.add(Flatten())\n",
        "model.add(Dense(128, activation=tf.nn.relu))\n",
        "model.add(Dropout(0.3))\n",
        "model.add(Dense(num_classes, activation=tf.nn.softmax))\n",
        "model.summary()"
      ]
    },
    {
      "cell_type": "code",
      "execution_count": 10,
      "metadata": {
        "colab": {
          "base_uri": "https://localhost:8080/"
        },
        "id": "1CYMlPm3YhZ5",
        "outputId": "ea03b868-fe42-4ebe-8174-36759bd0123d"
      },
      "outputs": [
        {
          "output_type": "stream",
          "name": "stdout",
          "text": [
            "Epoch 1/4\n",
            "1688/1688 [==============================] - 732s 431ms/step - loss: 0.2556 - accuracy: 0.9258 - val_loss: 0.0936 - val_accuracy: 0.9798\n",
            "Epoch 2/4\n",
            "1688/1688 [==============================] - 714s 423ms/step - loss: 0.1107 - accuracy: 0.9682 - val_loss: 0.1394 - val_accuracy: 0.9755\n",
            "Epoch 3/4\n",
            "1688/1688 [==============================] - 690s 409ms/step - loss: 0.0923 - accuracy: 0.9741 - val_loss: 0.1313 - val_accuracy: 0.9807\n",
            "Epoch 4/4\n",
            "1688/1688 [==============================] - 686s 406ms/step - loss: 0.0748 - accuracy: 0.9783 - val_loss: 0.1076 - val_accuracy: 0.9827\n"
          ]
        }
      ],
      "source": [
        "# Train the model\n",
        "model.compile(optimizer='adam', \n",
        "              loss='sparse_categorical_crossentropy', \n",
        "              metrics=['accuracy'])\n",
        "history=model.fit(x=x_train,\n",
        "                  y=y_train,\n",
        "                  validation_split=0.1,\n",
        "                  epochs=4)"
      ]
    },
    {
      "cell_type": "code",
      "execution_count": 11,
      "metadata": {
        "id": "Z-ue3_HDYk3e"
      },
      "outputs": [],
      "source": [
        "model.save('MNproject.h5')\n",
        "from tensorflow.keras.models import load_model\n",
        "model = load_model('MNproject.h5')"
      ]
    },
    {
      "cell_type": "code",
      "execution_count": 12,
      "metadata": {
        "colab": {
          "base_uri": "https://localhost:8080/"
        },
        "id": "keWKuN7DYpac",
        "outputId": "d2dc9767-2402-4d22-8969-33bab2124223"
      },
      "outputs": [
        {
          "output_type": "stream",
          "name": "stdout",
          "text": [
            "313/313 [==============================] - 25s 78ms/step - loss: 4.2186 - accuracy: 0.9806\n",
            "Test Loss 4.218614101409912\n",
            "Test Accuracy 0.9805999994277954\n"
          ]
        }
      ],
      "source": [
        "# Evaluate the model\n",
        "loss_and_acc=model.evaluate(x_test,y_test)\n",
        "print(\"Test Loss\", loss_and_acc[0])\n",
        "print(\"Test Accuracy\", loss_and_acc[1])"
      ]
    },
    {
      "cell_type": "code",
      "execution_count": null,
      "metadata": {
        "id": "N2DGoOh_Ywpw"
      },
      "outputs": [],
      "source": [
        "acc = history.history['accuracy']\n",
        "val_acc = history.history['val_accuracy']\n",
        "loss = history.history['loss']\n",
        "val_loss = history.history['val_loss']\n",
        "epochs = range(len(acc))\n",
        "\n",
        "fig, ax = plt.subplots(nrows=1, ncols=2, figsize=(20, 6))\n",
        "ax[0].plot(epochs, acc, 'y', label='Training accuracy')\n",
        "ax[0].plot(epochs, val_acc, 'g', label='Validation accuracy')\n",
        "ax[0].legend(loc=0)\n",
        "ax[1].plot(epochs, loss, 'y', label='Training loss')\n",
        "ax[1].plot(epochs, val_loss, 'g', label='Validation loss')\n",
        "ax[1].legend(loc=0)\n",
        "\n",
        "plt.suptitle('Training and validation')\n",
        "plt.show()"
      ]
    },
    {
      "cell_type": "code",
      "execution_count": null,
      "metadata": {
        "id": "VFUO7HS0Y2LE"
      },
      "outputs": [],
      "source": [
        "# Confusion Matrix\n",
        "y_predicted = model.predict(x_test)\n",
        "y_predicted_labels = [np.argmax(i) for i in y_predicted]\n",
        "cm = tf.math.confusion_matrix(labels=y_test,predictions=y_predicted_labels)\n",
        "cm"
      ]
    },
    {
      "cell_type": "code",
      "execution_count": 20,
      "metadata": {
        "id": "lDsk4AMrY4Fz",
        "colab": {
          "base_uri": "https://localhost:8080/",
          "height": 636
        },
        "outputId": "278c2696-6773-45f1-ab57-4cd43bab351b"
      },
      "outputs": [
        {
          "output_type": "execute_result",
          "data": {
            "text/plain": [
              "Text(95.72222222222221, 0.5, 'Truth')"
            ]
          },
          "metadata": {},
          "execution_count": 20
        },
        {
          "output_type": "display_data",
          "data": {
            "text/plain": [
              "<Figure size 1000x700 with 2 Axes>"
            ],
            "image/png": "[encoded data removed]"
          },
          "metadata": {}
        }
      ],
      "source": [
        "plt.figure(figsize = (10,7))\n",
        "sns.heatmap(cm, annot=True, fmt='d', cmap = 'coolwarm')\n",
        "plt.xlabel('Predicted')\n",
        "plt.ylabel('Truth')"
      ]
    },
    {
      "cell_type": "code",
      "execution_count": null,
      "metadata": {
        "id": "fQnaUgewY6Qz"
      },
      "outputs": [],
      "source": [
        "# Testing the Model\n",
        "plt.imshow(x_test[7],cmap='gray_r')\n",
        "plt.title('Actual Value: {}'.format(y_test[7]))\n",
        "prediction=model.predict(x_test)\n",
        "\n",
        "plt.axis('off')\n",
        "print('Predicted Value: ',np.argmax(prediction[7]))\n",
        "if(y_test[7]==(np.argmax(prediction[7]))):\n",
        "  print('Successful prediction')\n",
        "else:\n",
        "  print('Unsuccessful prediction')"
      ]
    },
    {
      "cell_type": "code",
      "execution_count": 21,
      "metadata": {
        "id": "ieBkr5-2Y86n",
        "colab": {
          "base_uri": "https://localhost:8080/",
          "height": 480
        },
        "outputId": "d7e7c785-20ca-47a8-cc5a-b7366204f01c"
      },
      "outputs": [
        {
          "output_type": "stream",
          "name": "stdout",
          "text": [
            "313/313 [==============================] - 25s 80ms/step\n",
            "Predicted Value:  2\n",
            "Successful prediction\n"
          ]
        },
        {
          "output_type": "display_data",
          "data": {
            "text/plain": [
              "<Figure size 640x480 with 1 Axes>"
            ],
            "image/png": "[encoded data removed]"
          },
          "metadata": {}
        }
      ],
      "source": [
        "plt.imshow(x_test[1],cmap='gray_r')\n",
        "plt.title('Actual Value: {}'.format(y_test[1]))\n",
        "prediction=model.predict(x_test)\n",
        "plt.axis('off')\n",
        "print('Predicted Value: ',np.argmax(prediction[1]))\n",
        "if(y_test[1]==(np.argmax(prediction[1]))):\n",
        "  print('Successful prediction')\n",
        "else:\n",
        "  print('Unsuccessful prediction')"
      ]
    }
  ],
  "metadata": {
    "colab": {
      "provenance": []
    },
    "kernelspec": {
      "display_name": "Python 3",
      "name": "python3"
    },
    "language_info": {
      "name": "python"
    }
  },
  "nbformat": 4,
  "nbformat_minor": 0
}